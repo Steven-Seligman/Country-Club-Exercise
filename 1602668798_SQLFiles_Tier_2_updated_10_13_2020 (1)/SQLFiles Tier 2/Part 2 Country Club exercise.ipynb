{
 "cells": [
  {
   "cell_type": "code",
   "execution_count": 1,
   "id": "67c75b74",
   "metadata": {},
   "outputs": [],
   "source": [
    "import sqlite3\n",
    "\n",
    "# Connect to the SQLite database\n",
    "db_path = r'C:\\Users\\steve\\Downloads\\1602668798_SQLFiles_Tier_2_updated_10_13_2020 (1)\\SQLFiles Tier 2\\sqlite_db_pythonsqlite.db'\n",
    "conn = sqlite3.connect(db_path)\n",
    "\n",
    "# Create a cursor\n",
    "cursor = conn.cursor()"
   ]
  },
  {
   "cell_type": "code",
   "execution_count": 2,
   "id": "20296813",
   "metadata": {},
   "outputs": [
    {
     "name": "stdout",
     "output_type": "stream",
     "text": [
      "Facility Name\tTotal Revenue\n",
      "Pool Table\t270\n",
      "Snooker Table\t240\n",
      "Table Tennis\t180\n"
     ]
    }
   ],
   "source": [
    "'''\n",
    "Q10: Produce a list of facilities with a total revenue less than 1000.\n",
    "The output of facility name and total revenue, sorted by revenue. Remember\n",
    "that there's a different cost for guests and members! \n",
    "'''\n",
    "\n",
    "query = '''\n",
    "SELECT f.name AS facility_name,\n",
    "       SUM(\n",
    "           CASE\n",
    "               WHEN b.memid = 0 THEN b.slots * f.guestcost\n",
    "               ELSE b.slots * f.membercost\n",
    "           END\n",
    "       ) AS total_revenue\n",
    "FROM Facilities f\n",
    "LEFT JOIN Bookings b ON f.facid = b.facid\n",
    "GROUP BY f.name\n",
    "HAVING total_revenue < 1000\n",
    "ORDER BY total_revenue DESC;\n",
    "'''\n",
    "\n",
    "cursor.execute(query)\n",
    "results = cursor.fetchall()\n",
    "\n",
    "print(\"Facility Name\\tTotal Revenue\")\n",
    "for row in results:\n",
    "    print(f\"{row[0]}\\t{row[1]}\")\n"
   ]
  },
  {
   "cell_type": "code",
   "execution_count": 3,
   "id": "3a7f37f1",
   "metadata": {},
   "outputs": [
    {
     "name": "stdout",
     "output_type": "stream",
     "text": [
      "Member Name                    Recommender Name\n",
      "Bader, Florence                Stibbons, Ponder\n",
      "Baker, Anne                    Stibbons, Ponder\n",
      "Baker, Timothy                 Farrell, Jemima\n",
      "Boothe, Tim                    Rownam, Tim\n",
      "Butters, Gerald                Smith, Darren\n",
      "Coplin, Joan                   Baker, Timothy\n",
      "Crumpet, Erica                 Smith, Tracy\n",
      "Dare, Nancy                    Joplette, Janice\n",
      "Farrell, David                 N/A\n",
      "Farrell, Jemima                N/A\n",
      "GUEST, GUEST                   N/A\n",
      "Genting, Matthew               Butters, Gerald\n",
      "Hunt, John                     Purview, Millicent\n",
      "Jones, David                   Joplette, Janice\n",
      "Jones, Douglas                 Jones, David\n",
      "Joplette, Janice               Smith, Darren\n",
      "Mackenzie, Anna                Smith, Darren\n",
      "Owen, Charles                  Smith, Darren\n",
      "Pinker, David                  Farrell, Jemima\n",
      "Purview, Millicent             Smith, Tracy\n",
      "Rownam, Tim                    N/A\n",
      "Rumney, Henrietta              Genting, Matthew\n",
      "Sarwin, Ramnaresh              Bader, Florence\n",
      "Smith, Darren                  N/A\n",
      "Smith, Darren                  N/A\n",
      "Smith, Jack                    Smith, Darren\n",
      "Smith, Tracy                   N/A\n",
      "Stibbons, Ponder               Tracy, Burton\n",
      "Tracy, Burton                  N/A\n",
      "Tupperware, Hyacinth           N/A\n",
      "Worthington-Smyth, Henry       Smith, Tracy\n"
     ]
    }
   ],
   "source": [
    "'''Q11: Produce a report of members and who recommended them in alphabetic surname,firstname order'''\n",
    "\n",
    "query = '''\n",
    "SELECT m1.surname AS member_surname,\n",
    "       m1.firstname AS member_firstname,\n",
    "       m2.surname AS recommender_surname,\n",
    "       m2.firstname AS recommender_firstname\n",
    "FROM Members m1\n",
    "LEFT JOIN Members m2 ON m1.recommendedby = m2.memid\n",
    "ORDER BY member_surname, member_firstname;\n",
    "'''\n",
    "cursor.execute(query)\n",
    "results = cursor.fetchall()\n",
    "\n",
    "\n",
    "print(f\"{'Member Name':<30} {'Recommender Name'}\")\n",
    "for row in results:\n",
    "    member_name = f\"{row[0]}, {row[1]}\"\n",
    "    recommender_name = f\"{row[2]}, {row[3]}\" if row[2] is not None else \"N/A\"\n",
    "    print(f\"{member_name:<30} {recommender_name}\")"
   ]
  },
  {
   "cell_type": "code",
   "execution_count": 4,
   "id": "17fe4710",
   "metadata": {},
   "outputs": [
    {
     "name": "stdout",
     "output_type": "stream",
     "text": [
      "Facility Name                  Total Slots Used\n",
      "Badminton Court                1086\n",
      "Tennis Court 1                 957\n",
      "Massage Room 1                 884\n",
      "Tennis Court 2                 882\n",
      "Snooker Table                  860\n",
      "Pool Table                     856\n",
      "Table Tennis                   794\n",
      "Squash Court                   418\n",
      "Massage Room 2                 54\n"
     ]
    }
   ],
   "source": [
    "'''Q12: Find the facilities with their usage by member, but not guests'''\n",
    "\n",
    "query = '''\n",
    "SELECT f.name AS facility_name,\n",
    "       SUM(b.slots) AS total_slots_used\n",
    "FROM Facilities f\n",
    "JOIN Bookings b ON f.facid = b.facid\n",
    "WHERE b.memid != 0\n",
    "GROUP BY f.name\n",
    "ORDER BY total_slots_used DESC;\n",
    "'''\n",
    "cursor.execute(query)\n",
    "results = cursor.fetchall()\n",
    "\n",
    "\n",
    "print(f\"{'Facility Name':<30} {'Total Slots Used'}\")\n",
    "for row in results:\n",
    "    print(f\"{row[0]:<30} {row[1]}\")\n"
   ]
  },
  {
   "cell_type": "code",
   "execution_count": 5,
   "id": "df81dbed",
   "metadata": {},
   "outputs": [
    {
     "name": "stdout",
     "output_type": "stream",
     "text": [
      "Year   Month  Facility Name                  Total Slots Used\n",
      "2012   07     Tennis Court 1                 201\n",
      "2012   07     Massage Room 1                 166\n",
      "2012   07     Badminton Court                165\n",
      "2012   07     Snooker Table                  140\n",
      "2012   07     Tennis Court 2                 123\n",
      "2012   07     Pool Table                     110\n",
      "2012   07     Table Tennis                   98\n",
      "2012   07     Squash Court                   50\n",
      "2012   07     Massage Room 2                 8\n",
      "2012   08     Badminton Court                414\n",
      "2012   08     Tennis Court 2                 345\n",
      "2012   08     Tennis Court 1                 339\n",
      "2012   08     Snooker Table                  316\n",
      "2012   08     Massage Room 1                 316\n",
      "2012   08     Pool Table                     303\n",
      "2012   08     Table Tennis                   296\n",
      "2012   08     Squash Court                   184\n",
      "2012   08     Massage Room 2                 18\n",
      "2012   09     Badminton Court                507\n",
      "2012   09     Pool Table                     443\n",
      "2012   09     Tennis Court 1                 417\n",
      "2012   09     Tennis Court 2                 414\n",
      "2012   09     Snooker Table                  404\n",
      "2012   09     Massage Room 1                 402\n",
      "2012   09     Table Tennis                   400\n",
      "2012   09     Squash Court                   184\n",
      "2012   09     Massage Room 2                 28\n"
     ]
    }
   ],
   "source": [
    "'''Q13: Find the facilities usage by month, but not guests'''\n",
    "\n",
    "query = '''\n",
    "SELECT strftime('%Y', b.starttime) AS year,\n",
    "       strftime('%m', b.starttime) AS month,\n",
    "       f.name AS facility_name,\n",
    "       SUM(b.slots) AS total_slots_used\n",
    "FROM Facilities f\n",
    "JOIN Bookings b ON f.facid = b.facid\n",
    "WHERE b.memid != 0\n",
    "GROUP BY year, month, f.name\n",
    "ORDER BY year, month, total_slots_used DESC;\n",
    "'''\n",
    "\n",
    "cursor.execute(query)\n",
    "results = cursor.fetchall()\n",
    "\n",
    "print(f\"{'Year':<6} {'Month':<6} {'Facility Name':<30} {'Total Slots Used'}\")\n",
    "for row in results:\n",
    "    print(f\"{row[0]:<6} {row[1]:<6} {row[2]:<30} {row[3]}\")"
   ]
  },
  {
   "cell_type": "code",
   "execution_count": 6,
   "id": "0ea29330",
   "metadata": {},
   "outputs": [],
   "source": [
    "# Close the connection\n",
    "conn.close()"
   ]
  }
 ],
 "metadata": {
  "kernelspec": {
   "display_name": "Python 3 (ipykernel)",
   "language": "python",
   "name": "python3"
  },
  "language_info": {
   "codemirror_mode": {
    "name": "ipython",
    "version": 3
   },
   "file_extension": ".py",
   "mimetype": "text/x-python",
   "name": "python",
   "nbconvert_exporter": "python",
   "pygments_lexer": "ipython3",
   "version": "3.10.9"
  }
 },
 "nbformat": 4,
 "nbformat_minor": 5
}
